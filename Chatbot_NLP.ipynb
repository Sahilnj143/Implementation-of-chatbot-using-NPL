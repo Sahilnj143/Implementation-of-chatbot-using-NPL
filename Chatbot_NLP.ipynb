{
 "cells": [
  {
   "cell_type": "code",
   "execution_count": 1,
   "id": "55e8ac56-fed4-4694-800c-5821117f3d9d",
   "metadata": {
    "scrolled": true
   },
   "outputs": [
    {
     "name": "stdout",
     "output_type": "stream",
     "text": [
      "Defaulting to user installation because normal site-packages is not writeable\n",
      "Requirement already satisfied: nltk in c:\\programdata\\anaconda3\\lib\\site-packages (3.9.1)\n",
      "Requirement already satisfied: scikit-learn in c:\\programdata\\anaconda3\\lib\\site-packages (1.5.1)\n",
      "Requirement already satisfied: numpy in c:\\programdata\\anaconda3\\lib\\site-packages (1.26.4)\n",
      "Requirement already satisfied: requests in c:\\programdata\\anaconda3\\lib\\site-packages (2.32.3)\n",
      "Requirement already satisfied: click in c:\\programdata\\anaconda3\\lib\\site-packages (from nltk) (8.1.7)\n",
      "Requirement already satisfied: joblib in c:\\programdata\\anaconda3\\lib\\site-packages (from nltk) (1.4.2)\n",
      "Requirement already satisfied: regex>=2021.8.3 in c:\\programdata\\anaconda3\\lib\\site-packages (from nltk) (2024.9.11)\n",
      "Requirement already satisfied: tqdm in c:\\programdata\\anaconda3\\lib\\site-packages (from nltk) (4.66.5)\n",
      "Requirement already satisfied: scipy>=1.6.0 in c:\\programdata\\anaconda3\\lib\\site-packages (from scikit-learn) (1.13.1)\n",
      "Requirement already satisfied: threadpoolctl>=3.1.0 in c:\\programdata\\anaconda3\\lib\\site-packages (from scikit-learn) (3.5.0)\n",
      "Requirement already satisfied: charset-normalizer<4,>=2 in c:\\programdata\\anaconda3\\lib\\site-packages (from requests) (3.3.2)\n",
      "Requirement already satisfied: idna<4,>=2.5 in c:\\programdata\\anaconda3\\lib\\site-packages (from requests) (3.7)\n",
      "Requirement already satisfied: urllib3<3,>=1.21.1 in c:\\programdata\\anaconda3\\lib\\site-packages (from requests) (2.2.3)\n",
      "Requirement already satisfied: certifi>=2017.4.17 in c:\\programdata\\anaconda3\\lib\\site-packages (from requests) (2024.8.30)\n",
      "Requirement already satisfied: colorama in c:\\programdata\\anaconda3\\lib\\site-packages (from click->nltk) (0.4.6)\n"
     ]
    }
   ],
   "source": [
    "# Step 1: Install Necessary Libraries\n",
    "!pip install nltk scikit-learn numpy requests\n"
   ]
  },
  {
   "cell_type": "code",
   "execution_count": 2,
   "id": "2fe98d0e-438e-4e09-ab21-358742df471a",
   "metadata": {},
   "outputs": [],
   "source": [
    "# Step 2: Import Required Libraries\n",
    "import numpy as np\n",
    "import nltk\n",
    "import random\n",
    "import string  # To process standard python strings\n",
    "import requests\n",
    "from sklearn.feature_extraction.text import TfidfVectorizer\n",
    "from sklearn.metrics.pairwise import cosine_similarity"
   ]
  },
  {
   "cell_type": "code",
   "execution_count": 11,
   "id": "82e48b28-ae3c-4954-a380-a0bbd5615249",
   "metadata": {},
   "outputs": [
    {
     "name": "stderr",
     "output_type": "stream",
     "text": [
      "[nltk_data] Downloading package punkt to\n",
      "[nltk_data]     C:\\Users\\SAHIL\\AppData\\Roaming\\nltk_data...\n",
      "[nltk_data]   Package punkt is already up-to-date!\n",
      "[nltk_data] Downloading package punkt_tab to\n",
      "[nltk_data]     C:\\Users\\SAHIL\\AppData\\Roaming\\nltk_data...\n",
      "[nltk_data]   Unzipping tokenizers\\punkt_tab.zip.\n",
      "[nltk_data] Downloading package wordnet to\n",
      "[nltk_data]     C:\\Users\\SAHIL\\AppData\\Roaming\\nltk_data...\n",
      "[nltk_data]   Package wordnet is already up-to-date!\n"
     ]
    }
   ],
   "source": [
    "# Step 3: Download NLTK Packages\n",
    "nltk.download('punkt')  # For tokenization\n",
    "nltk.download('punkt_tab')  # For tokenization\n",
    "nltk.download('wordnet')  # For lemmatization\n",
    "\n",
    "# Step 4: Load the Data\n",
    "with open('chatbot_data.txt', 'r', errors='ignore') as f:\n",
    "    raw_text = f.read().lower()\n",
    "\n",
    "# Step 5: Text Preprocessing\n",
    "from nltk.tokenize import sent_tokenize, word_tokenize\n",
    "\n",
    "# Step 5: Text Preprocessing\n",
    "sent_tokens = sent_tokenize(raw_text)  # Convert the text to a list of sentences\n",
    "word_tokens = word_tokenize(raw_text)  # Convert the text to a list of words  # Convert the text to a list of sentences\n",
    "word_tokens = nltk.word_tokenize(raw_text)  # Convert the text to a list of words\n",
    "\n",
    "lemmer = nltk.stem.WordNetLemmatizer()\n",
    "def LemTokens(tokens):\n",
    "    return [lemmer.lemmatize(token) for token in tokens]\n",
    "\n",
    "remove_punct_dict = dict((ord(punct), None) for punct in string.punctuation)\n",
    "\n",
    "def LemNormalize(text):\n",
    "    return LemTokens(nltk.word_tokenize(text.lower().translate(remove_punct_dict)))"
   ]
  },
  {
   "cell_type": "code",
   "execution_count": 12,
   "id": "7dfb853e-1a9c-43e9-a15c-d28d49b48fe6",
   "metadata": {},
   "outputs": [],
   "source": [
    "# Step 6: Keyword Matching\n",
    "GREETING_INPUTS = (\"hello\", \"hi\", \"greetings\", \"sup\", \"what's up\", \"hey\")\n",
    "GREETING_RESPONSES = [\"hi\", \"hey\", \"hello\", \"I am glad you're talking to me!\"]\n",
    "\n",
    "def greeting(sentence):\n",
    "    for word in sentence.split():\n",
    "        if word.lower() in GREETING_INPUTS:\n",
    "            return random.choice(GREETING_RESPONSES)"
   ]
  },
  {
   "cell_type": "code",
   "execution_count": 13,
   "id": "889c91fd-ef0f-4112-bb8a-e37a6618ffbe",
   "metadata": {},
   "outputs": [],
   "source": [
    "# Step 7: Crypto Price Check using Gemini API\n",
    "CRYPTO_KEYWORDS = [\"bitcoin\", \"ethereum\", \"crypto\", \"price\"]\n",
    "\n",
    "def get_crypto_price(crypto):\n",
    "    base_url = f\"https://api.gemini.com/v1/pubticker/{crypto}usd\"\n",
    "    try:\n",
    "        response = requests.get(base_url)\n",
    "        data = response.json()\n",
    "        return f\"The current price of {crypto.capitalize()} is ${data['last']}\"\n",
    "    except:\n",
    "        return \"Sorry, I couldn't retrieve the price at the moment.\"\n"
   ]
  },
  {
   "cell_type": "code",
   "execution_count": 14,
   "id": "b332948b-5e5a-497f-87a7-467cbdc6acaf",
   "metadata": {},
   "outputs": [],
   "source": [
    "# Step 8: Generate Response\n",
    "\n",
    "def response(user_response):\n",
    "    robo_response = ''\n",
    "    sent_tokens.append(user_response)\n",
    "    TfidfVec = TfidfVectorizer(tokenizer=LemNormalize, stop_words='english')\n",
    "    tfidf = TfidfVec.fit_transform(sent_tokens)\n",
    "    vals = cosine_similarity(tfidf[-1], tfidf)\n",
    "    idx = vals.argsort()[0][-2]\n",
    "    flat = vals.flatten()\n",
    "    flat.sort()\n",
    "    req_tfidf = flat[-2]\n",
    "\n",
    "    if req_tfidf == 0:\n",
    "        robo_response += \"I am sorry! I don't understand you.\"\n",
    "    else:\n",
    "        robo_response += sent_tokens[idx]\n",
    "    sent_tokens.remove(user_response)\n",
    "    return robo_response"
   ]
  },
  {
   "cell_type": "code",
   "execution_count": null,
   "id": "a3a06a3d-fddd-4fcf-8352-8f724d19d94f",
   "metadata": {},
   "outputs": [
    {
     "name": "stdout",
     "output_type": "stream",
     "text": [
      "Chatbot: Hello! I am an NLP chatbot with crypto price feature. Type 'bye' to exit.\n"
     ]
    },
    {
     "name": "stdin",
     "output_type": "stream",
     "text": [
      "You:  c\n"
     ]
    },
    {
     "name": "stdout",
     "output_type": "stream",
     "text": [
      "Chatbot: I am sorry! I don't understand you.\n"
     ]
    },
    {
     "name": "stdin",
     "output_type": "stream",
     "text": [
      "You:  hi\n"
     ]
    },
    {
     "name": "stdout",
     "output_type": "stream",
     "text": [
      "Chatbot: hi\n"
     ]
    },
    {
     "name": "stdin",
     "output_type": "stream",
     "text": [
      "You:  what's the price  of bitcoin\n"
     ]
    },
    {
     "name": "stdout",
     "output_type": "stream",
     "text": [
      "Chatbot: The current price of Btc is $80462.85\n"
     ]
    },
    {
     "name": "stdin",
     "output_type": "stream",
     "text": [
      "You:  and ethereum\n"
     ]
    },
    {
     "name": "stdout",
     "output_type": "stream",
     "text": [
      "Chatbot: The current price of Eth is $2139.92\n"
     ]
    }
   ],
   "source": [
    "# Step 9: Chatbot Conversation Loop\n",
    "flag = True\n",
    "print(\"Chatbot: Hello! I am an NLP chatbot with crypto price feature. Type 'bye' to exit.\")\n",
    "\n",
    "while flag:\n",
    "    user_response = input(\"You: \").lower()\n",
    "    if user_response != 'bye':\n",
    "        if user_response in ['thanks', 'thank you']:\n",
    "            flag = False\n",
    "            print(\"Chatbot: You're welcome!\")\n",
    "        elif any(keyword in user_response for keyword in CRYPTO_KEYWORDS):\n",
    "            if \"bitcoin\" in user_response:\n",
    "                print(\"Chatbot: \" + get_crypto_price(\"btc\"))\n",
    "            elif \"ethereum\" in user_response:\n",
    "                print(\"Chatbot: \" + get_crypto_price(\"eth\"))\n",
    "            else:\n",
    "                print(\"Chatbot: Sorry, I can only check Bitcoin and Ethereum prices right now.\")\n",
    "        else:\n",
    "            if greeting(user_response) is not None:\n",
    "                print(\"Chatbot: \" + greeting(user_response))\n",
    "            else:\n",
    "                print(\"Chatbot: \" + response(user_response))\n",
    "    else:\n",
    "        flag = False\n",
    "        print(\"Chatbot: Bye! Take care.\")"
   ]
  },
  {
   "cell_type": "code",
   "execution_count": null,
   "id": "e83d129a-cc70-4a7a-a01f-5fa7f64af57a",
   "metadata": {},
   "outputs": [],
   "source": []
  }
 ],
 "metadata": {
  "kernelspec": {
   "display_name": "Python 3 (ipykernel)",
   "language": "python",
   "name": "python3"
  },
  "language_info": {
   "codemirror_mode": {
    "name": "ipython",
    "version": 3
   },
   "file_extension": ".py",
   "mimetype": "text/x-python",
   "name": "python",
   "nbconvert_exporter": "python",
   "pygments_lexer": "ipython3",
   "version": "3.12.7"
  }
 },
 "nbformat": 4,
 "nbformat_minor": 5
}
